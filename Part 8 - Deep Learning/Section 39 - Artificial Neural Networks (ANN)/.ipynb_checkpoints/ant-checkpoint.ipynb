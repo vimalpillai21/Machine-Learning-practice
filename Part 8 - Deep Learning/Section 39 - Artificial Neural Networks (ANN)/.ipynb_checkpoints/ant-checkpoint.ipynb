{
 "cells": [
  {
   "cell_type": "code",
   "execution_count": 36,
   "metadata": {},
   "outputs": [],
   "source": [
    "import numpy as np\n",
    "import matplotlib.pyplot as plt\n",
    "import pandas as pd\n",
    "\n",
    "# Importing the dataset\n",
    "dataset = pd.read_csv('Churn_Modelling.csv')\n",
    "X = dataset.iloc[:, 3:13].values\n",
    "y = dataset.iloc[:, 13].values"
   ]
  },
  {
   "cell_type": "code",
   "execution_count": 37,
   "metadata": {},
   "outputs": [
    {
     "data": {
      "text/html": [
       "<div>\n",
       "<style scoped>\n",
       "    .dataframe tbody tr th:only-of-type {\n",
       "        vertical-align: middle;\n",
       "    }\n",
       "\n",
       "    .dataframe tbody tr th {\n",
       "        vertical-align: top;\n",
       "    }\n",
       "\n",
       "    .dataframe thead th {\n",
       "        text-align: right;\n",
       "    }\n",
       "</style>\n",
       "<table border=\"1\" class=\"dataframe\">\n",
       "  <thead>\n",
       "    <tr style=\"text-align: right;\">\n",
       "      <th></th>\n",
       "      <th>RowNumber</th>\n",
       "      <th>CustomerId</th>\n",
       "      <th>Surname</th>\n",
       "      <th>CreditScore</th>\n",
       "      <th>Geography</th>\n",
       "      <th>Gender</th>\n",
       "      <th>Age</th>\n",
       "      <th>Tenure</th>\n",
       "      <th>Balance</th>\n",
       "      <th>NumOfProducts</th>\n",
       "      <th>HasCrCard</th>\n",
       "      <th>IsActiveMember</th>\n",
       "      <th>EstimatedSalary</th>\n",
       "      <th>Exited</th>\n",
       "    </tr>\n",
       "  </thead>\n",
       "  <tbody>\n",
       "    <tr>\n",
       "      <th>0</th>\n",
       "      <td>1</td>\n",
       "      <td>15634602</td>\n",
       "      <td>Hargrave</td>\n",
       "      <td>619</td>\n",
       "      <td>France</td>\n",
       "      <td>Female</td>\n",
       "      <td>42</td>\n",
       "      <td>2</td>\n",
       "      <td>0.00</td>\n",
       "      <td>1</td>\n",
       "      <td>1</td>\n",
       "      <td>1</td>\n",
       "      <td>101348.88</td>\n",
       "      <td>1</td>\n",
       "    </tr>\n",
       "    <tr>\n",
       "      <th>1</th>\n",
       "      <td>2</td>\n",
       "      <td>15647311</td>\n",
       "      <td>Hill</td>\n",
       "      <td>608</td>\n",
       "      <td>Spain</td>\n",
       "      <td>Female</td>\n",
       "      <td>41</td>\n",
       "      <td>1</td>\n",
       "      <td>83807.86</td>\n",
       "      <td>1</td>\n",
       "      <td>0</td>\n",
       "      <td>1</td>\n",
       "      <td>112542.58</td>\n",
       "      <td>0</td>\n",
       "    </tr>\n",
       "    <tr>\n",
       "      <th>2</th>\n",
       "      <td>3</td>\n",
       "      <td>15619304</td>\n",
       "      <td>Onio</td>\n",
       "      <td>502</td>\n",
       "      <td>France</td>\n",
       "      <td>Female</td>\n",
       "      <td>42</td>\n",
       "      <td>8</td>\n",
       "      <td>159660.80</td>\n",
       "      <td>3</td>\n",
       "      <td>1</td>\n",
       "      <td>0</td>\n",
       "      <td>113931.57</td>\n",
       "      <td>1</td>\n",
       "    </tr>\n",
       "    <tr>\n",
       "      <th>3</th>\n",
       "      <td>4</td>\n",
       "      <td>15701354</td>\n",
       "      <td>Boni</td>\n",
       "      <td>699</td>\n",
       "      <td>France</td>\n",
       "      <td>Female</td>\n",
       "      <td>39</td>\n",
       "      <td>1</td>\n",
       "      <td>0.00</td>\n",
       "      <td>2</td>\n",
       "      <td>0</td>\n",
       "      <td>0</td>\n",
       "      <td>93826.63</td>\n",
       "      <td>0</td>\n",
       "    </tr>\n",
       "    <tr>\n",
       "      <th>4</th>\n",
       "      <td>5</td>\n",
       "      <td>15737888</td>\n",
       "      <td>Mitchell</td>\n",
       "      <td>850</td>\n",
       "      <td>Spain</td>\n",
       "      <td>Female</td>\n",
       "      <td>43</td>\n",
       "      <td>2</td>\n",
       "      <td>125510.82</td>\n",
       "      <td>1</td>\n",
       "      <td>1</td>\n",
       "      <td>1</td>\n",
       "      <td>79084.10</td>\n",
       "      <td>0</td>\n",
       "    </tr>\n",
       "  </tbody>\n",
       "</table>\n",
       "</div>"
      ],
      "text/plain": [
       "   RowNumber  CustomerId   Surname  CreditScore Geography  Gender  Age  \\\n",
       "0          1    15634602  Hargrave          619    France  Female   42   \n",
       "1          2    15647311      Hill          608     Spain  Female   41   \n",
       "2          3    15619304      Onio          502    France  Female   42   \n",
       "3          4    15701354      Boni          699    France  Female   39   \n",
       "4          5    15737888  Mitchell          850     Spain  Female   43   \n",
       "\n",
       "   Tenure    Balance  NumOfProducts  HasCrCard  IsActiveMember  \\\n",
       "0       2       0.00              1          1               1   \n",
       "1       1   83807.86              1          0               1   \n",
       "2       8  159660.80              3          1               0   \n",
       "3       1       0.00              2          0               0   \n",
       "4       2  125510.82              1          1               1   \n",
       "\n",
       "   EstimatedSalary  Exited  \n",
       "0        101348.88       1  \n",
       "1        112542.58       0  \n",
       "2        113931.57       1  \n",
       "3         93826.63       0  \n",
       "4         79084.10       0  "
      ]
     },
     "execution_count": 37,
     "metadata": {},
     "output_type": "execute_result"
    }
   ],
   "source": [
    "dataset.head()"
   ]
  },
  {
   "cell_type": "code",
   "execution_count": 38,
   "metadata": {},
   "outputs": [
    {
     "data": {
      "text/plain": [
       "array([[619, 'France', 'Female', ..., 1, 1, 101348.88],\n",
       "       [608, 'Spain', 'Female', ..., 0, 1, 112542.58],\n",
       "       [502, 'France', 'Female', ..., 1, 0, 113931.57],\n",
       "       ...,\n",
       "       [709, 'France', 'Female', ..., 0, 1, 42085.58],\n",
       "       [772, 'Germany', 'Male', ..., 1, 0, 92888.52],\n",
       "       [792, 'France', 'Female', ..., 1, 0, 38190.78]], dtype=object)"
      ]
     },
     "execution_count": 38,
     "metadata": {},
     "output_type": "execute_result"
    }
   ],
   "source": [
    "X"
   ]
  },
  {
   "cell_type": "code",
   "execution_count": 39,
   "metadata": {},
   "outputs": [
    {
     "name": "stdout",
     "output_type": "stream",
     "text": [
      "[1.0 0.0 0.0 619 0 42 2 0.0 1 1 1 101348.88]\n"
     ]
    }
   ],
   "source": [
    "from sklearn.preprocessing import LabelEncoder, OneHotEncoder\n",
    "from sklearn.compose import ColumnTransformer\n",
    "\n",
    "labelencoder_X_1 = LabelEncoder()\n",
    "X[:, 1] = labelencoder_X_1.fit_transform(X[:, 1])\n",
    "\n",
    "labelencoder_X_2 = LabelEncoder()\n",
    "X[:, 2] = labelencoder_X_2.fit_transform(X[:, 2])\n",
    "ct = ColumnTransformer([(\"Geography\", OneHotEncoder(), [1])], remainder = 'passthrough')\n",
    "X = ct.fit_transform(X)\n",
    "print(X[0,:])\n",
    "X = X[:, 1:]"
   ]
  },
  {
   "cell_type": "code",
   "execution_count": 41,
   "metadata": {},
   "outputs": [],
   "source": [
    "from sklearn.model_selection import train_test_split\n",
    "X_train, X_test, y_train, y_test = train_test_split(X, y, test_size = 0.2, random_state = 0)"
   ]
  },
  {
   "cell_type": "code",
   "execution_count": 42,
   "metadata": {},
   "outputs": [],
   "source": [
    "# Feature Scaling\n",
    "from sklearn.preprocessing import StandardScaler\n",
    "sc = StandardScaler()\n",
    "X_train = sc.fit_transform(X_train)\n",
    "X_test = sc.transform(X_test)"
   ]
  },
  {
   "cell_type": "code",
   "execution_count": 43,
   "metadata": {},
   "outputs": [
    {
     "data": {
      "text/plain": [
       "array([[-0.5698444 ,  1.74309049,  0.16958176, ...,  0.64259497,\n",
       "        -1.03227043,  1.10643166],\n",
       "       [ 1.75486502, -0.57369368, -2.30455945, ...,  0.64259497,\n",
       "         0.9687384 , -0.74866447],\n",
       "       [-0.5698444 , -0.57369368, -1.19119591, ...,  0.64259497,\n",
       "        -1.03227043,  1.48533467],\n",
       "       ...,\n",
       "       [-0.5698444 , -0.57369368,  0.9015152 , ...,  0.64259497,\n",
       "        -1.03227043,  1.41231994],\n",
       "       [-0.5698444 ,  1.74309049, -0.62420521, ...,  0.64259497,\n",
       "         0.9687384 ,  0.84432121],\n",
       "       [ 1.75486502, -0.57369368, -0.28401079, ...,  0.64259497,\n",
       "        -1.03227043,  0.32472465]])"
      ]
     },
     "execution_count": 43,
     "metadata": {},
     "output_type": "execute_result"
    }
   ],
   "source": [
    "X_train"
   ]
  },
  {
   "cell_type": "code",
   "execution_count": 45,
   "metadata": {},
   "outputs": [],
   "source": [
    "import keras\n",
    "from keras.models import Sequential\n",
    "from keras.layers import Dense"
   ]
  },
  {
   "cell_type": "code",
   "execution_count": 46,
   "metadata": {},
   "outputs": [],
   "source": [
    "# Initialising the ANN\n",
    "classifier = Sequential()"
   ]
  },
  {
   "cell_type": "code",
   "execution_count": 47,
   "metadata": {},
   "outputs": [],
   "source": [
    "# Adding the first input layer and hidden layer\n",
    "classifier.add(Dense(units=6,kernel_initializer='uniform',\n",
    "                     activation='relu',input_dim=11))"
   ]
  },
  {
   "cell_type": "code",
   "execution_count": 48,
   "metadata": {},
   "outputs": [],
   "source": [
    "# Adding the second hidden layer\n",
    "classifier.add(Dense(units=6,kernel_initializer='uniform',\n",
    "                     activation='relu'))"
   ]
  },
  {
   "cell_type": "code",
   "execution_count": 49,
   "metadata": {},
   "outputs": [],
   "source": [
    "# Adding the output layer\n",
    "classifier.add(Dense(units=1,kernel_initializer='uniform',\n",
    "                     activation='sigmoid'))"
   ]
  },
  {
   "cell_type": "code",
   "execution_count": 50,
   "metadata": {},
   "outputs": [],
   "source": [
    "# Compiling the ANN\n",
    "classifier.compile(optimizer='adam',loss=\"binary_crossentropy\",\n",
    "                   metrics=['accuracy',])"
   ]
  },
  {
   "cell_type": "code",
   "execution_count": 51,
   "metadata": {},
   "outputs": [
    {
     "name": "stdout",
     "output_type": "stream",
     "text": [
      "Epoch 1/100\n",
      "8000/8000 [==============================] - 6s 696us/step - loss: 0.4931 - accuracy: 0.7952\n",
      "Epoch 2/100\n",
      "8000/8000 [==============================] - 4s 514us/step - loss: 0.4187 - accuracy: 0.7960\n",
      "Epoch 3/100\n",
      "8000/8000 [==============================] - 5s 612us/step - loss: 0.4088 - accuracy: 0.7960\n",
      "Epoch 4/100\n",
      "8000/8000 [==============================] - 4s 549us/step - loss: 0.3994 - accuracy: 0.8223\n",
      "Epoch 5/100\n",
      "8000/8000 [==============================] - 4s 540us/step - loss: 0.3911 - accuracy: 0.8292\n",
      "Epoch 6/100\n",
      "8000/8000 [==============================] - 4s 523us/step - loss: 0.3845 - accuracy: 0.8299\n",
      "Epoch 7/100\n",
      "8000/8000 [==============================] - 4s 517us/step - loss: 0.3790 - accuracy: 0.8401\n",
      "Epoch 8/100\n",
      "8000/8000 [==============================] - 4s 525us/step - loss: 0.3746 - accuracy: 0.8428\n",
      "Epoch 9/100\n",
      "8000/8000 [==============================] - 4s 524us/step - loss: 0.3705 - accuracy: 0.8466\n",
      "Epoch 10/100\n",
      "8000/8000 [==============================] - 4s 542us/step - loss: 0.3681 - accuracy: 0.8491\n",
      "Epoch 11/100\n",
      "8000/8000 [==============================] - 4s 506us/step - loss: 0.3660 - accuracy: 0.8496\n",
      "Epoch 12/100\n",
      "8000/8000 [==============================] - 4s 543us/step - loss: 0.3630 - accuracy: 0.8526\n",
      "Epoch 13/100\n",
      "8000/8000 [==============================] - 4s 527us/step - loss: 0.3622 - accuracy: 0.8525\n",
      "Epoch 14/100\n",
      "8000/8000 [==============================] - 4s 536us/step - loss: 0.3596 - accuracy: 0.8525\n",
      "Epoch 15/100\n",
      "8000/8000 [==============================] - 4s 511us/step - loss: 0.3598 - accuracy: 0.8543\n",
      "Epoch 16/100\n",
      "8000/8000 [==============================] - 4s 547us/step - loss: 0.3574 - accuracy: 0.8529\n",
      "Epoch 17/100\n",
      "8000/8000 [==============================] - 4s 541us/step - loss: 0.3565 - accuracy: 0.8568\n",
      "Epoch 18/100\n",
      "8000/8000 [==============================] - 4s 538us/step - loss: 0.3558 - accuracy: 0.8558\n",
      "Epoch 19/100\n",
      "8000/8000 [==============================] - 4s 534us/step - loss: 0.3548 - accuracy: 0.8546\n",
      "Epoch 20/100\n",
      "8000/8000 [==============================] - 4s 519us/step - loss: 0.3546 - accuracy: 0.8546\n",
      "Epoch 21/100\n",
      "8000/8000 [==============================] - 4s 530us/step - loss: 0.3538 - accuracy: 0.8549\n",
      "Epoch 22/100\n",
      "8000/8000 [==============================] - 4s 523us/step - loss: 0.3529 - accuracy: 0.8561\n",
      "Epoch 23/100\n",
      "8000/8000 [==============================] - 4s 541us/step - loss: 0.3522 - accuracy: 0.8577\n",
      "Epoch 24/100\n",
      "8000/8000 [==============================] - 4s 504us/step - loss: 0.3516 - accuracy: 0.8575\n",
      "Epoch 25/100\n",
      "8000/8000 [==============================] - 4s 527us/step - loss: 0.3515 - accuracy: 0.8571\n",
      "Epoch 26/100\n",
      "8000/8000 [==============================] - 4s 542us/step - loss: 0.3516 - accuracy: 0.8570\n",
      "Epoch 27/100\n",
      "8000/8000 [==============================] - 4s 532us/step - loss: 0.3508 - accuracy: 0.8581\n",
      "Epoch 28/100\n",
      "8000/8000 [==============================] - 4s 521us/step - loss: 0.3503 - accuracy: 0.8568\n",
      "Epoch 29/100\n",
      "8000/8000 [==============================] - 4s 537us/step - loss: 0.3511 - accuracy: 0.8566\n",
      "Epoch 30/100\n",
      "8000/8000 [==============================] - 4s 542us/step - loss: 0.3504 - accuracy: 0.8597\n",
      "Epoch 31/100\n",
      "8000/8000 [==============================] - 5s 568us/step - loss: 0.3500 - accuracy: 0.8587\n",
      "Epoch 32/100\n",
      "8000/8000 [==============================] - 3s 420us/step - loss: 0.3493 - accuracy: 0.8606\n",
      "Epoch 33/100\n",
      "8000/8000 [==============================] - 3s 340us/step - loss: 0.3501 - accuracy: 0.8591\n",
      "Epoch 34/100\n",
      "8000/8000 [==============================] - 3s 340us/step - loss: 0.3499 - accuracy: 0.8594\n",
      "Epoch 35/100\n",
      "8000/8000 [==============================] - 3s 343us/step - loss: 0.3499 - accuracy: 0.8575\n",
      "Epoch 36/100\n",
      "8000/8000 [==============================] - 3s 328us/step - loss: 0.3488 - accuracy: 0.8580\n",
      "Epoch 37/100\n",
      "8000/8000 [==============================] - 3s 339us/step - loss: 0.3491 - accuracy: 0.8580\n",
      "Epoch 38/100\n",
      "8000/8000 [==============================] - 3s 331us/step - loss: 0.3486 - accuracy: 0.8591\n",
      "Epoch 39/100\n",
      "8000/8000 [==============================] - 3s 338us/step - loss: 0.3483 - accuracy: 0.8586\n",
      "Epoch 40/100\n",
      "8000/8000 [==============================] - 3s 327us/step - loss: 0.3491 - accuracy: 0.8594\n",
      "Epoch 41/100\n",
      "8000/8000 [==============================] - 3s 351us/step - loss: 0.3485 - accuracy: 0.8586\n",
      "Epoch 42/100\n",
      "8000/8000 [==============================] - 3s 326us/step - loss: 0.3476 - accuracy: 0.8604\n",
      "Epoch 43/100\n",
      "8000/8000 [==============================] - 3s 340us/step - loss: 0.3483 - accuracy: 0.8595\n",
      "Epoch 44/100\n",
      "8000/8000 [==============================] - 3s 324us/step - loss: 0.3478 - accuracy: 0.8561\n",
      "Epoch 45/100\n",
      "8000/8000 [==============================] - 3s 342us/step - loss: 0.3471 - accuracy: 0.8585\n",
      "Epoch 46/100\n",
      "8000/8000 [==============================] - 3s 328us/step - loss: 0.3480 - accuracy: 0.8562\n",
      "Epoch 47/100\n",
      "8000/8000 [==============================] - 3s 339us/step - loss: 0.3471 - accuracy: 0.8583\n",
      "Epoch 48/100\n",
      "8000/8000 [==============================] - 3s 330us/step - loss: 0.3471 - accuracy: 0.8580\n",
      "Epoch 49/100\n",
      "8000/8000 [==============================] - 3s 348us/step - loss: 0.3471 - accuracy: 0.8599\n",
      "Epoch 50/100\n",
      "8000/8000 [==============================] - 3s 326us/step - loss: 0.3470 - accuracy: 0.8586\n",
      "Epoch 51/100\n",
      "8000/8000 [==============================] - 3s 345us/step - loss: 0.3461 - accuracy: 0.8585\n",
      "Epoch 52/100\n",
      "8000/8000 [==============================] - 3s 359us/step - loss: 0.3473 - accuracy: 0.8625\n",
      "Epoch 53/100\n",
      "8000/8000 [==============================] - 3s 358us/step - loss: 0.3472 - accuracy: 0.8590\n",
      "Epoch 54/100\n",
      "8000/8000 [==============================] - 3s 332us/step - loss: 0.3464 - accuracy: 0.8600\n",
      "Epoch 55/100\n",
      "8000/8000 [==============================] - 3s 336us/step - loss: 0.3474 - accuracy: 0.8591\n",
      "Epoch 56/100\n",
      "8000/8000 [==============================] - 3s 325us/step - loss: 0.3469 - accuracy: 0.8584\n",
      "Epoch 57/100\n",
      "8000/8000 [==============================] - 3s 339us/step - loss: 0.3467 - accuracy: 0.8590\n",
      "Epoch 58/100\n",
      "8000/8000 [==============================] - 3s 323us/step - loss: 0.3466 - accuracy: 0.8595\n",
      "Epoch 59/100\n",
      "8000/8000 [==============================] - 3s 335us/step - loss: 0.3464 - accuracy: 0.8577\n",
      "Epoch 60/100\n",
      "8000/8000 [==============================] - 3s 321us/step - loss: 0.3467 - accuracy: 0.8601\n",
      "Epoch 61/100\n",
      "8000/8000 [==============================] - 3s 340us/step - loss: 0.3465 - accuracy: 0.8605\n",
      "Epoch 62/100\n",
      "8000/8000 [==============================] - 3s 324us/step - loss: 0.3454 - accuracy: 0.8587\n",
      "Epoch 63/100\n",
      "8000/8000 [==============================] - 3s 341us/step - loss: 0.3459 - accuracy: 0.8601\n",
      "Epoch 64/100\n",
      "8000/8000 [==============================] - 3s 343us/step - loss: 0.3460 - accuracy: 0.8583\n",
      "Epoch 65/100\n",
      "8000/8000 [==============================] - 3s 336us/step - loss: 0.3464 - accuracy: 0.8600\n",
      "Epoch 66/100\n",
      "8000/8000 [==============================] - 3s 321us/step - loss: 0.3455 - accuracy: 0.8585\n",
      "Epoch 67/100\n",
      "8000/8000 [==============================] - 3s 339us/step - loss: 0.3460 - accuracy: 0.8597\n",
      "Epoch 68/100\n",
      "8000/8000 [==============================] - 3s 322us/step - loss: 0.3463 - accuracy: 0.8594\n",
      "Epoch 69/100\n",
      "8000/8000 [==============================] - 3s 342us/step - loss: 0.3468 - accuracy: 0.8602\n",
      "Epoch 70/100\n",
      "8000/8000 [==============================] - 3s 323us/step - loss: 0.3446 - accuracy: 0.8600\n",
      "Epoch 71/100\n",
      "8000/8000 [==============================] - 3s 340us/step - loss: 0.3458 - accuracy: 0.8593\n",
      "Epoch 72/100\n",
      "8000/8000 [==============================] - 3s 321us/step - loss: 0.3454 - accuracy: 0.8602\n",
      "Epoch 73/100\n",
      "8000/8000 [==============================] - 3s 353us/step - loss: 0.3452 - accuracy: 0.8604\n",
      "Epoch 74/100\n",
      "8000/8000 [==============================] - 2s 310us/step - loss: 0.3457 - accuracy: 0.8591\n",
      "Epoch 75/100\n",
      "8000/8000 [==============================] - 3s 333us/step - loss: 0.3451 - accuracy: 0.8606\n",
      "Epoch 76/100\n",
      "8000/8000 [==============================] - 3s 315us/step - loss: 0.3457 - accuracy: 0.8577\n",
      "Epoch 77/100\n",
      "8000/8000 [==============================] - 3s 338us/step - loss: 0.3456 - accuracy: 0.8595\n",
      "Epoch 78/100\n",
      "8000/8000 [==============================] - 2s 310us/step - loss: 0.3449 - accuracy: 0.8593\n",
      "Epoch 79/100\n",
      "8000/8000 [==============================] - 3s 323us/step - loss: 0.3449 - accuracy: 0.8612\n",
      "Epoch 80/100\n",
      "8000/8000 [==============================] - 2s 312us/step - loss: 0.3448 - accuracy: 0.8593\n",
      "Epoch 81/100\n",
      "8000/8000 [==============================] - 3s 338us/step - loss: 0.3457 - accuracy: 0.8577\n",
      "Epoch 82/100\n",
      "8000/8000 [==============================] - 3s 313us/step - loss: 0.3455 - accuracy: 0.8595\n",
      "Epoch 83/100\n",
      "8000/8000 [==============================] - 3s 323us/step - loss: 0.3436 - accuracy: 0.8595\n",
      "Epoch 84/100\n",
      "8000/8000 [==============================] - 2s 311us/step - loss: 0.3452 - accuracy: 0.8590\n",
      "Epoch 85/100\n",
      "8000/8000 [==============================] - 3s 324us/step - loss: 0.3451 - accuracy: 0.8604\n",
      "Epoch 86/100\n",
      "8000/8000 [==============================] - 3s 318us/step - loss: 0.3446 - accuracy: 0.8589\n",
      "Epoch 87/100\n",
      "8000/8000 [==============================] - 3s 333us/step - loss: 0.3446 - accuracy: 0.8599\n",
      "Epoch 88/100\n",
      "8000/8000 [==============================] - 3s 313us/step - loss: 0.3444 - accuracy: 0.8597\n",
      "Epoch 89/100\n",
      "8000/8000 [==============================] - 3s 322us/step - loss: 0.3447 - accuracy: 0.8587\n",
      "Epoch 90/100\n",
      "8000/8000 [==============================] - 2s 312us/step - loss: 0.3439 - accuracy: 0.8606\n",
      "Epoch 91/100\n",
      "8000/8000 [==============================] - 3s 322us/step - loss: 0.3448 - accuracy: 0.8619\n",
      "Epoch 92/100\n",
      "8000/8000 [==============================] - 3s 317us/step - loss: 0.3445 - accuracy: 0.8577\n",
      "Epoch 93/100\n",
      "8000/8000 [==============================] - 2s 312us/step - loss: 0.3442 - accuracy: 0.8599\n",
      "Epoch 94/100\n",
      "8000/8000 [==============================] - 3s 325us/step - loss: 0.3444 - accuracy: 0.8614\n",
      "Epoch 95/100\n",
      "8000/8000 [==============================] - 3s 315us/step - loss: 0.3442 - accuracy: 0.8602\n",
      "Epoch 96/100\n",
      "8000/8000 [==============================] - 3s 324us/step - loss: 0.3442 - accuracy: 0.8619\n",
      "Epoch 97/100\n",
      "8000/8000 [==============================] - 2s 311us/step - loss: 0.3441 - accuracy: 0.8571\n",
      "Epoch 98/100\n",
      "8000/8000 [==============================] - 3s 324us/step - loss: 0.3438 - accuracy: 0.8599\n",
      "Epoch 99/100\n",
      "8000/8000 [==============================] - 2s 312us/step - loss: 0.3441 - accuracy: 0.8590\n",
      "Epoch 100/100\n",
      "8000/8000 [==============================] - 3s 334us/step - loss: 0.3446 - accuracy: 0.8590\n"
     ]
    },
    {
     "data": {
      "text/plain": [
       "<keras.callbacks.callbacks.History at 0x21fc29a4908>"
      ]
     },
     "execution_count": 51,
     "metadata": {},
     "output_type": "execute_result"
    }
   ],
   "source": [
    "classifier.fit(X_train,y_train,batch_size=10,epochs=100)"
   ]
  },
  {
   "cell_type": "code",
   "execution_count": 57,
   "metadata": {},
   "outputs": [],
   "source": [
    "y_pred = classifier.predict(X_test)"
   ]
  },
  {
   "cell_type": "code",
   "execution_count": 58,
   "metadata": {},
   "outputs": [
    {
     "data": {
      "text/plain": [
       "array([[0.30578458],\n",
       "       [0.37364876],\n",
       "       [0.1740549 ],\n",
       "       [0.06675057],\n",
       "       [0.0856633 ]], dtype=float32)"
      ]
     },
     "execution_count": 58,
     "metadata": {},
     "output_type": "execute_result"
    }
   ],
   "source": [
    "y_pred[:5]"
   ]
  },
  {
   "cell_type": "code",
   "execution_count": 59,
   "metadata": {},
   "outputs": [],
   "source": [
    "y_pred = (y_pred > 0.5)"
   ]
  },
  {
   "cell_type": "code",
   "execution_count": 61,
   "metadata": {},
   "outputs": [
    {
     "name": "stdout",
     "output_type": "stream",
     "text": [
      "              precision    recall  f1-score   support\n",
      "\n",
      "           0       0.88      0.95      0.92      1595\n",
      "           1       0.72      0.51      0.59       405\n",
      "\n",
      "    accuracy                           0.86      2000\n",
      "   macro avg       0.80      0.73      0.75      2000\n",
      "weighted avg       0.85      0.86      0.85      2000\n",
      "\n",
      "[[1515   80]\n",
      " [ 200  205]]\n"
     ]
    }
   ],
   "source": [
    "# Making the Confusion Matrix\n",
    "from sklearn.metrics import confusion_matrix,classification_report\n",
    "cm = confusion_matrix(y_test, y_pred)\n",
    "print(classification_report(y_test,y_pred))\n",
    "print(cm)"
   ]
  }
 ],
 "metadata": {
  "kernelspec": {
   "display_name": "Python 3",
   "language": "python",
   "name": "python3"
  },
  "language_info": {
   "codemirror_mode": {
    "name": "ipython",
    "version": 3
   },
   "file_extension": ".py",
   "mimetype": "text/x-python",
   "name": "python",
   "nbconvert_exporter": "python",
   "pygments_lexer": "ipython3",
   "version": "3.5.6"
  }
 },
 "nbformat": 4,
 "nbformat_minor": 4
}
